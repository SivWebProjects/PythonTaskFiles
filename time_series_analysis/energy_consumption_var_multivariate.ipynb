{
  "cells": [
    {
      "cell_type": "markdown",
      "metadata": {
        "id": "view-in-github",
        "colab_type": "text"
      },
      "source": [
        "<a href=\"https://colab.research.google.com/github/SivWebProjects/PythonTaskFiles/blob/master/time_series_analysis/energy_consumption_var_multivariate.ipynb\" target=\"_parent\"><img src=\"https://colab.research.google.com/assets/colab-badge.svg\" alt=\"Open In Colab\"/></a>"
      ]
    },
    {
      "cell_type": "code",
      "execution_count": null,
      "id": "2eee9d67",
      "metadata": {
        "id": "2eee9d67"
      },
      "outputs": [],
      "source": [
        "# Importing required libraries\n",
        "import numpy as np\n",
        "import pandas as pd\n",
        "import matplotlib.pyplot as plt\n",
        "from statsmodels.tsa.stattools import adfuller\n",
        "from statsmodels.tsa.stattools import grangercausalitytests\n",
        "from statsmodels.tsa.vector_ar.vecm import coint_johansen\n",
        "from statsmodels.stats.stattools import durbin_watson\n",
        "from statsmodels.tsa.api import VAR"
      ]
    },
    {
      "cell_type": "markdown",
      "id": "56423c67",
      "metadata": {
        "id": "56423c67"
      },
      "source": [
        "1. Importing the dataset"
      ]
    },
    {
      "cell_type": "code",
      "execution_count": null,
      "id": "1e70a712",
      "metadata": {
        "id": "1e70a712"
      },
      "outputs": [],
      "source": [
        "df = pd.read_csv('/home/neosoft/Documents/csv_files/energy_consumption.csv')"
      ]
    },
    {
      "cell_type": "code",
      "execution_count": null,
      "id": "f76d17e1",
      "metadata": {
        "id": "f76d17e1",
        "outputId": "643dc649-5bf6-462d-d293-2f67d5753a0a"
      },
      "outputs": [
        {
          "data": {
            "text/html": [
              "<div>\n",
              "<style scoped>\n",
              "    .dataframe tbody tr th:only-of-type {\n",
              "        vertical-align: middle;\n",
              "    }\n",
              "\n",
              "    .dataframe tbody tr th {\n",
              "        vertical-align: top;\n",
              "    }\n",
              "\n",
              "    .dataframe thead th {\n",
              "        text-align: right;\n",
              "    }\n",
              "</style>\n",
              "<table border=\"1\" class=\"dataframe\">\n",
              "  <thead>\n",
              "    <tr style=\"text-align: right;\">\n",
              "      <th></th>\n",
              "      <th>timeStamp</th>\n",
              "      <th>demand</th>\n",
              "      <th>precip</th>\n",
              "      <th>temp</th>\n",
              "    </tr>\n",
              "  </thead>\n",
              "  <tbody>\n",
              "    <tr>\n",
              "      <th>0</th>\n",
              "      <td>2012-01-01 00:00:00</td>\n",
              "      <td>4937.5</td>\n",
              "      <td>0.0000</td>\n",
              "      <td>46.13</td>\n",
              "    </tr>\n",
              "    <tr>\n",
              "      <th>1</th>\n",
              "      <td>2012-01-01 01:00:00</td>\n",
              "      <td>4752.1</td>\n",
              "      <td>0.0000</td>\n",
              "      <td>45.89</td>\n",
              "    </tr>\n",
              "    <tr>\n",
              "      <th>2</th>\n",
              "      <td>2012-01-01 02:00:00</td>\n",
              "      <td>4542.6</td>\n",
              "      <td>0.0000</td>\n",
              "      <td>45.04</td>\n",
              "    </tr>\n",
              "    <tr>\n",
              "      <th>3</th>\n",
              "      <td>2012-01-01 03:00:00</td>\n",
              "      <td>4357.7</td>\n",
              "      <td>0.0000</td>\n",
              "      <td>45.03</td>\n",
              "    </tr>\n",
              "    <tr>\n",
              "      <th>4</th>\n",
              "      <td>2012-01-01 04:00:00</td>\n",
              "      <td>4275.5</td>\n",
              "      <td>0.0000</td>\n",
              "      <td>42.61</td>\n",
              "    </tr>\n",
              "    <tr>\n",
              "      <th>...</th>\n",
              "      <td>...</td>\n",
              "      <td>...</td>\n",
              "      <td>...</td>\n",
              "      <td>...</td>\n",
              "    </tr>\n",
              "    <tr>\n",
              "      <th>49200</th>\n",
              "      <td>2017-08-12 02:00:00</td>\n",
              "      <td>NaN</td>\n",
              "      <td>0.0000</td>\n",
              "      <td>70.84</td>\n",
              "    </tr>\n",
              "    <tr>\n",
              "      <th>49201</th>\n",
              "      <td>2017-08-12 03:00:00</td>\n",
              "      <td>NaN</td>\n",
              "      <td>0.0000</td>\n",
              "      <td>70.57</td>\n",
              "    </tr>\n",
              "    <tr>\n",
              "      <th>49202</th>\n",
              "      <td>2017-08-12 04:00:00</td>\n",
              "      <td>NaN</td>\n",
              "      <td>0.0000</td>\n",
              "      <td>69.89</td>\n",
              "    </tr>\n",
              "    <tr>\n",
              "      <th>49203</th>\n",
              "      <td>2017-08-12 05:00:00</td>\n",
              "      <td>NaN</td>\n",
              "      <td>0.0000</td>\n",
              "      <td>68.59</td>\n",
              "    </tr>\n",
              "    <tr>\n",
              "      <th>49204</th>\n",
              "      <td>2017-08-12 06:00:00</td>\n",
              "      <td>NaN</td>\n",
              "      <td>0.0031</td>\n",
              "      <td>67.33</td>\n",
              "    </tr>\n",
              "  </tbody>\n",
              "</table>\n",
              "<p>49205 rows × 4 columns</p>\n",
              "</div>"
            ],
            "text/plain": [
              "                 timeStamp  demand  precip   temp\n",
              "0      2012-01-01 00:00:00  4937.5  0.0000  46.13\n",
              "1      2012-01-01 01:00:00  4752.1  0.0000  45.89\n",
              "2      2012-01-01 02:00:00  4542.6  0.0000  45.04\n",
              "3      2012-01-01 03:00:00  4357.7  0.0000  45.03\n",
              "4      2012-01-01 04:00:00  4275.5  0.0000  42.61\n",
              "...                    ...     ...     ...    ...\n",
              "49200  2017-08-12 02:00:00     NaN  0.0000  70.84\n",
              "49201  2017-08-12 03:00:00     NaN  0.0000  70.57\n",
              "49202  2017-08-12 04:00:00     NaN  0.0000  69.89\n",
              "49203  2017-08-12 05:00:00     NaN  0.0000  68.59\n",
              "49204  2017-08-12 06:00:00     NaN  0.0031  67.33\n",
              "\n",
              "[49205 rows x 4 columns]"
            ]
          },
          "execution_count": 4,
          "metadata": {},
          "output_type": "execute_result"
        }
      ],
      "source": [
        "df"
      ]
    },
    {
      "cell_type": "markdown",
      "id": "55ea59be",
      "metadata": {
        "id": "55ea59be"
      },
      "source": [
        "From this output, we have the timeStamp, demand, precip, and temp columns. The columns are the variables that will build the time series model.\n",
        "\n",
        "The time series is multivariate since it has three-time dependent variables (demand, precip, and temp). They have the following functions:\n",
        "1) The timestamp column shows the time of recording.\n",
        "2) The demand column shows the hourly energy consumption.\n",
        "3) The precip and temp columns correlate with the demand column."
      ]
    },
    {
      "cell_type": "markdown",
      "id": "88322e9e",
      "metadata": {
        "id": "88322e9e"
      },
      "source": [
        "Converting the timestamp column"
      ]
    },
    {
      "cell_type": "code",
      "execution_count": null,
      "id": "2355a806",
      "metadata": {
        "id": "2355a806"
      },
      "outputs": [],
      "source": [
        "df['timeStamp'] = pd.to_datetime(df['timeStamp'])"
      ]
    },
    {
      "cell_type": "markdown",
      "id": "8a878e6c",
      "metadata": {
        "id": "8a878e6c"
      },
      "source": [
        "Set the timeStamp as the index column"
      ]
    },
    {
      "cell_type": "code",
      "execution_count": null,
      "id": "1e41bb0a",
      "metadata": {
        "id": "1e41bb0a"
      },
      "outputs": [],
      "source": [
        "df = df.set_index('timeStamp')"
      ]
    },
    {
      "cell_type": "code",
      "execution_count": null,
      "id": "9b56ab42",
      "metadata": {
        "id": "9b56ab42",
        "outputId": "9c21c555-34d4-4c77-e513-c1ccdbb8fb90"
      },
      "outputs": [
        {
          "data": {
            "text/html": [
              "<div>\n",
              "<style scoped>\n",
              "    .dataframe tbody tr th:only-of-type {\n",
              "        vertical-align: middle;\n",
              "    }\n",
              "\n",
              "    .dataframe tbody tr th {\n",
              "        vertical-align: top;\n",
              "    }\n",
              "\n",
              "    .dataframe thead th {\n",
              "        text-align: right;\n",
              "    }\n",
              "</style>\n",
              "<table border=\"1\" class=\"dataframe\">\n",
              "  <thead>\n",
              "    <tr style=\"text-align: right;\">\n",
              "      <th></th>\n",
              "      <th>demand</th>\n",
              "      <th>precip</th>\n",
              "      <th>temp</th>\n",
              "    </tr>\n",
              "    <tr>\n",
              "      <th>timeStamp</th>\n",
              "      <th></th>\n",
              "      <th></th>\n",
              "      <th></th>\n",
              "    </tr>\n",
              "  </thead>\n",
              "  <tbody>\n",
              "    <tr>\n",
              "      <th>2012-01-01 00:00:00</th>\n",
              "      <td>4937.5</td>\n",
              "      <td>0.0000</td>\n",
              "      <td>46.13</td>\n",
              "    </tr>\n",
              "    <tr>\n",
              "      <th>2012-01-01 01:00:00</th>\n",
              "      <td>4752.1</td>\n",
              "      <td>0.0000</td>\n",
              "      <td>45.89</td>\n",
              "    </tr>\n",
              "    <tr>\n",
              "      <th>2012-01-01 02:00:00</th>\n",
              "      <td>4542.6</td>\n",
              "      <td>0.0000</td>\n",
              "      <td>45.04</td>\n",
              "    </tr>\n",
              "    <tr>\n",
              "      <th>2012-01-01 03:00:00</th>\n",
              "      <td>4357.7</td>\n",
              "      <td>0.0000</td>\n",
              "      <td>45.03</td>\n",
              "    </tr>\n",
              "    <tr>\n",
              "      <th>2012-01-01 04:00:00</th>\n",
              "      <td>4275.5</td>\n",
              "      <td>0.0000</td>\n",
              "      <td>42.61</td>\n",
              "    </tr>\n",
              "    <tr>\n",
              "      <th>...</th>\n",
              "      <td>...</td>\n",
              "      <td>...</td>\n",
              "      <td>...</td>\n",
              "    </tr>\n",
              "    <tr>\n",
              "      <th>2017-08-12 02:00:00</th>\n",
              "      <td>NaN</td>\n",
              "      <td>0.0000</td>\n",
              "      <td>70.84</td>\n",
              "    </tr>\n",
              "    <tr>\n",
              "      <th>2017-08-12 03:00:00</th>\n",
              "      <td>NaN</td>\n",
              "      <td>0.0000</td>\n",
              "      <td>70.57</td>\n",
              "    </tr>\n",
              "    <tr>\n",
              "      <th>2017-08-12 04:00:00</th>\n",
              "      <td>NaN</td>\n",
              "      <td>0.0000</td>\n",
              "      <td>69.89</td>\n",
              "    </tr>\n",
              "    <tr>\n",
              "      <th>2017-08-12 05:00:00</th>\n",
              "      <td>NaN</td>\n",
              "      <td>0.0000</td>\n",
              "      <td>68.59</td>\n",
              "    </tr>\n",
              "    <tr>\n",
              "      <th>2017-08-12 06:00:00</th>\n",
              "      <td>NaN</td>\n",
              "      <td>0.0031</td>\n",
              "      <td>67.33</td>\n",
              "    </tr>\n",
              "  </tbody>\n",
              "</table>\n",
              "<p>49205 rows × 3 columns</p>\n",
              "</div>"
            ],
            "text/plain": [
              "                     demand  precip   temp\n",
              "timeStamp                                 \n",
              "2012-01-01 00:00:00  4937.5  0.0000  46.13\n",
              "2012-01-01 01:00:00  4752.1  0.0000  45.89\n",
              "2012-01-01 02:00:00  4542.6  0.0000  45.04\n",
              "2012-01-01 03:00:00  4357.7  0.0000  45.03\n",
              "2012-01-01 04:00:00  4275.5  0.0000  42.61\n",
              "...                     ...     ...    ...\n",
              "2017-08-12 02:00:00     NaN  0.0000  70.84\n",
              "2017-08-12 03:00:00     NaN  0.0000  70.57\n",
              "2017-08-12 04:00:00     NaN  0.0000  69.89\n",
              "2017-08-12 05:00:00     NaN  0.0000  68.59\n",
              "2017-08-12 06:00:00     NaN  0.0031  67.33\n",
              "\n",
              "[49205 rows x 3 columns]"
            ]
          },
          "execution_count": 7,
          "metadata": {},
          "output_type": "execute_result"
        }
      ],
      "source": [
        "df"
      ]
    },
    {
      "cell_type": "markdown",
      "id": "def9f983",
      "metadata": {
        "id": "def9f983"
      },
      "source": [
        "2. Cleaning Data"
      ]
    },
    {
      "cell_type": "markdown",
      "id": "a899a73a",
      "metadata": {
        "id": "a899a73a"
      },
      "source": [
        "Checking for missing or null values"
      ]
    },
    {
      "cell_type": "markdown",
      "id": "0e242d14",
      "metadata": {
        "id": "0e242d14"
      },
      "source": [
        "We need to check for missing values in the dataset. Missing values affects the model and leads to inaccurate forecast results."
      ]
    },
    {
      "cell_type": "code",
      "execution_count": null,
      "id": "499b0b20",
      "metadata": {
        "scrolled": false,
        "id": "499b0b20",
        "outputId": "9b238a8a-9798-4017-9b31-07b669c98177"
      },
      "outputs": [
        {
          "data": {
            "text/plain": [
              "demand    True\n",
              "precip    True\n",
              "temp      True\n",
              "dtype: bool"
            ]
          },
          "execution_count": 8,
          "metadata": {},
          "output_type": "execute_result"
        }
      ],
      "source": [
        "df.isnull().any()"
      ]
    },
    {
      "cell_type": "code",
      "execution_count": null,
      "id": "b4a3e820",
      "metadata": {
        "scrolled": true,
        "id": "b4a3e820",
        "outputId": "0bcdcfea-dbc1-48ee-9858-6aee2cca66c3"
      },
      "outputs": [
        {
          "data": {
            "text/plain": [
              "demand     81\n",
              "precip    230\n",
              "temp      186\n",
              "dtype: int64"
            ]
          },
          "execution_count": 9,
          "metadata": {},
          "output_type": "execute_result"
        }
      ],
      "source": [
        "df.isnull().sum()"
      ]
    },
    {
      "cell_type": "markdown",
      "id": "2755995c",
      "metadata": {
        "id": "2755995c"
      },
      "source": [
        "From the output, all the columns have missing values. We will handle the missing values using data imputation. It ensures we have a complete-time series dataset."
      ]
    },
    {
      "cell_type": "markdown",
      "id": "687e56d8",
      "metadata": {
        "id": "687e56d8"
      },
      "source": [
        "Imputing Missing Values"
      ]
    },
    {
      "cell_type": "markdown",
      "id": "3ad80a08",
      "metadata": {
        "id": "3ad80a08"
      },
      "source": [
        "Next Observation Carried Backward (NOCB):- According to this technique, the missing values are imputed using an immediate value ahead of them."
      ]
    },
    {
      "cell_type": "markdown",
      "id": "87e36b86",
      "metadata": {
        "id": "87e36b86"
      },
      "source": [
        "I used the NOCB technique for this dataset because the demand columns of the last rows have null values, and this technique uses ahead values. In my dataset, LOCF use before values are NaN values."
      ]
    },
    {
      "cell_type": "code",
      "execution_count": null,
      "id": "d2c70a23",
      "metadata": {
        "id": "d2c70a23"
      },
      "outputs": [],
      "source": [
        "# Imputing all columns with Next Observation Carried Backward (NOCB) Technique\n",
        "# Imputing demand column\n",
        "df['demand'].fillna(method='ffill', inplace=True)\n",
        "# Imputing precip column\n",
        "df['precip'].fillna(method='ffill', inplace=True)\n",
        "# Imputing temp column\n",
        "df['temp'].fillna(method='ffill', inplace=True)"
      ]
    },
    {
      "cell_type": "code",
      "execution_count": null,
      "id": "c13a88ef",
      "metadata": {
        "id": "c13a88ef",
        "outputId": "eb27ae9a-8728-49c2-8fbc-f8e07cd24c92"
      },
      "outputs": [
        {
          "data": {
            "text/html": [
              "<div>\n",
              "<style scoped>\n",
              "    .dataframe tbody tr th:only-of-type {\n",
              "        vertical-align: middle;\n",
              "    }\n",
              "\n",
              "    .dataframe tbody tr th {\n",
              "        vertical-align: top;\n",
              "    }\n",
              "\n",
              "    .dataframe thead th {\n",
              "        text-align: right;\n",
              "    }\n",
              "</style>\n",
              "<table border=\"1\" class=\"dataframe\">\n",
              "  <thead>\n",
              "    <tr style=\"text-align: right;\">\n",
              "      <th></th>\n",
              "      <th>demand</th>\n",
              "      <th>precip</th>\n",
              "      <th>temp</th>\n",
              "    </tr>\n",
              "    <tr>\n",
              "      <th>timeStamp</th>\n",
              "      <th></th>\n",
              "      <th></th>\n",
              "      <th></th>\n",
              "    </tr>\n",
              "  </thead>\n",
              "  <tbody>\n",
              "    <tr>\n",
              "      <th>2017-08-10 02:00:00</th>\n",
              "      <td>5497.025</td>\n",
              "      <td>0.0068</td>\n",
              "      <td>71.21</td>\n",
              "    </tr>\n",
              "    <tr>\n",
              "      <th>2017-08-10 03:00:00</th>\n",
              "      <td>5360.583</td>\n",
              "      <td>0.0070</td>\n",
              "      <td>70.39</td>\n",
              "    </tr>\n",
              "    <tr>\n",
              "      <th>2017-08-10 04:00:00</th>\n",
              "      <td>5333.775</td>\n",
              "      <td>0.0030</td>\n",
              "      <td>69.18</td>\n",
              "    </tr>\n",
              "    <tr>\n",
              "      <th>2017-08-10 05:00:00</th>\n",
              "      <td>5534.683</td>\n",
              "      <td>0.0000</td>\n",
              "      <td>68.09</td>\n",
              "    </tr>\n",
              "    <tr>\n",
              "      <th>2012-03-11 02:00:00</th>\n",
              "      <td>5534.683</td>\n",
              "      <td>0.0000</td>\n",
              "      <td>37.78</td>\n",
              "    </tr>\n",
              "    <tr>\n",
              "      <th>...</th>\n",
              "      <td>...</td>\n",
              "      <td>...</td>\n",
              "      <td>...</td>\n",
              "    </tr>\n",
              "    <tr>\n",
              "      <th>2017-08-12 02:00:00</th>\n",
              "      <td>5534.683</td>\n",
              "      <td>0.0000</td>\n",
              "      <td>70.84</td>\n",
              "    </tr>\n",
              "    <tr>\n",
              "      <th>2017-08-12 03:00:00</th>\n",
              "      <td>5534.683</td>\n",
              "      <td>0.0000</td>\n",
              "      <td>70.57</td>\n",
              "    </tr>\n",
              "    <tr>\n",
              "      <th>2017-08-12 04:00:00</th>\n",
              "      <td>5534.683</td>\n",
              "      <td>0.0000</td>\n",
              "      <td>69.89</td>\n",
              "    </tr>\n",
              "    <tr>\n",
              "      <th>2017-08-12 05:00:00</th>\n",
              "      <td>5534.683</td>\n",
              "      <td>0.0000</td>\n",
              "      <td>68.59</td>\n",
              "    </tr>\n",
              "    <tr>\n",
              "      <th>2017-08-12 06:00:00</th>\n",
              "      <td>5534.683</td>\n",
              "      <td>0.0031</td>\n",
              "      <td>67.33</td>\n",
              "    </tr>\n",
              "  </tbody>\n",
              "</table>\n",
              "<p>85 rows × 3 columns</p>\n",
              "</div>"
            ],
            "text/plain": [
              "                       demand  precip   temp\n",
              "timeStamp                                   \n",
              "2017-08-10 02:00:00  5497.025  0.0068  71.21\n",
              "2017-08-10 03:00:00  5360.583  0.0070  70.39\n",
              "2017-08-10 04:00:00  5333.775  0.0030  69.18\n",
              "2017-08-10 05:00:00  5534.683  0.0000  68.09\n",
              "2012-03-11 02:00:00  5534.683  0.0000  37.78\n",
              "...                       ...     ...    ...\n",
              "2017-08-12 02:00:00  5534.683  0.0000  70.84\n",
              "2017-08-12 03:00:00  5534.683  0.0000  70.57\n",
              "2017-08-12 04:00:00  5534.683  0.0000  69.89\n",
              "2017-08-12 05:00:00  5534.683  0.0000  68.59\n",
              "2017-08-12 06:00:00  5534.683  0.0031  67.33\n",
              "\n",
              "[85 rows x 3 columns]"
            ]
          },
          "execution_count": 11,
          "metadata": {},
          "output_type": "execute_result"
        }
      ],
      "source": [
        "df.tail(85)"
      ]
    },
    {
      "cell_type": "code",
      "execution_count": null,
      "id": "157cfdfc",
      "metadata": {
        "id": "157cfdfc",
        "outputId": "253472c2-ba96-425b-aee7-386aa1ea37d0"
      },
      "outputs": [
        {
          "data": {
            "text/plain": [
              "demand    False\n",
              "precip    False\n",
              "temp      False\n",
              "dtype: bool"
            ]
          },
          "execution_count": 13,
          "metadata": {},
          "output_type": "execute_result"
        }
      ],
      "source": [
        "# We check again for missing values to know if we have handled the issue successfully.\n",
        "df.isnull().any()"
      ]
    },
    {
      "cell_type": "code",
      "execution_count": null,
      "id": "fbfb1a44",
      "metadata": {
        "id": "fbfb1a44"
      },
      "outputs": [],
      "source": [
        "# I am taking samples month-wise\n",
        "df = df.resample('M').mean()"
      ]
    },
    {
      "cell_type": "code",
      "execution_count": null,
      "id": "200be128",
      "metadata": {
        "id": "200be128",
        "outputId": "63a434a6-b970-467e-d804-65873e3df1a0"
      },
      "outputs": [
        {
          "data": {
            "text/html": [
              "<div>\n",
              "<style scoped>\n",
              "    .dataframe tbody tr th:only-of-type {\n",
              "        vertical-align: middle;\n",
              "    }\n",
              "\n",
              "    .dataframe tbody tr th {\n",
              "        vertical-align: top;\n",
              "    }\n",
              "\n",
              "    .dataframe thead th {\n",
              "        text-align: right;\n",
              "    }\n",
              "</style>\n",
              "<table border=\"1\" class=\"dataframe\">\n",
              "  <thead>\n",
              "    <tr style=\"text-align: right;\">\n",
              "      <th></th>\n",
              "      <th>demand</th>\n",
              "      <th>precip</th>\n",
              "      <th>temp</th>\n",
              "    </tr>\n",
              "    <tr>\n",
              "      <th>timeStamp</th>\n",
              "      <th></th>\n",
              "      <th></th>\n",
              "      <th></th>\n",
              "    </tr>\n",
              "  </thead>\n",
              "  <tbody>\n",
              "    <tr>\n",
              "      <th>2012-01-31</th>\n",
              "      <td>5757.495833</td>\n",
              "      <td>0.003116</td>\n",
              "      <td>37.174288</td>\n",
              "    </tr>\n",
              "    <tr>\n",
              "      <th>2012-02-29</th>\n",
              "      <td>5622.331609</td>\n",
              "      <td>0.001650</td>\n",
              "      <td>40.448046</td>\n",
              "    </tr>\n",
              "    <tr>\n",
              "      <th>2012-03-31</th>\n",
              "      <td>5479.919198</td>\n",
              "      <td>0.001179</td>\n",
              "      <td>49.607917</td>\n",
              "    </tr>\n",
              "    <tr>\n",
              "      <th>2012-04-30</th>\n",
              "      <td>5368.945833</td>\n",
              "      <td>0.003959</td>\n",
              "      <td>54.255903</td>\n",
              "    </tr>\n",
              "    <tr>\n",
              "      <th>2012-05-31</th>\n",
              "      <td>5867.896102</td>\n",
              "      <td>0.005064</td>\n",
              "      <td>64.188078</td>\n",
              "    </tr>\n",
              "    <tr>\n",
              "      <th>...</th>\n",
              "      <td>...</td>\n",
              "      <td>...</td>\n",
              "      <td>...</td>\n",
              "    </tr>\n",
              "    <tr>\n",
              "      <th>2017-04-30</th>\n",
              "      <td>5233.477382</td>\n",
              "      <td>0.002942</td>\n",
              "      <td>55.621764</td>\n",
              "    </tr>\n",
              "    <tr>\n",
              "      <th>2017-05-31</th>\n",
              "      <td>5421.773060</td>\n",
              "      <td>0.004031</td>\n",
              "      <td>61.115457</td>\n",
              "    </tr>\n",
              "    <tr>\n",
              "      <th>2017-06-30</th>\n",
              "      <td>6597.990346</td>\n",
              "      <td>0.003008</td>\n",
              "      <td>71.962625</td>\n",
              "    </tr>\n",
              "    <tr>\n",
              "      <th>2017-07-31</th>\n",
              "      <td>7306.861511</td>\n",
              "      <td>0.002266</td>\n",
              "      <td>76.380363</td>\n",
              "    </tr>\n",
              "    <tr>\n",
              "      <th>2017-08-31</th>\n",
              "      <td>6711.707542</td>\n",
              "      <td>0.008961</td>\n",
              "      <td>73.730258</td>\n",
              "    </tr>\n",
              "  </tbody>\n",
              "</table>\n",
              "<p>68 rows × 3 columns</p>\n",
              "</div>"
            ],
            "text/plain": [
              "                 demand    precip       temp\n",
              "timeStamp                                   \n",
              "2012-01-31  5757.495833  0.003116  37.174288\n",
              "2012-02-29  5622.331609  0.001650  40.448046\n",
              "2012-03-31  5479.919198  0.001179  49.607917\n",
              "2012-04-30  5368.945833  0.003959  54.255903\n",
              "2012-05-31  5867.896102  0.005064  64.188078\n",
              "...                 ...       ...        ...\n",
              "2017-04-30  5233.477382  0.002942  55.621764\n",
              "2017-05-31  5421.773060  0.004031  61.115457\n",
              "2017-06-30  6597.990346  0.003008  71.962625\n",
              "2017-07-31  7306.861511  0.002266  76.380363\n",
              "2017-08-31  6711.707542  0.008961  73.730258\n",
              "\n",
              "[68 rows x 3 columns]"
            ]
          },
          "execution_count": 16,
          "metadata": {},
          "output_type": "execute_result"
        }
      ],
      "source": [
        "df"
      ]
    },
    {
      "cell_type": "markdown",
      "id": "0a4ef389",
      "metadata": {
        "id": "0a4ef389"
      },
      "source": [
        "3. Check for Stationarity and Make the Time Series Stationary"
      ]
    },
    {
      "cell_type": "markdown",
      "id": "b59f7dea",
      "metadata": {
        "id": "b59f7dea"
      },
      "source": [
        "Null Hypothesis:- Series possesses a unit root and hence it is not stationary\n",
        "\n",
        "Alternate Hypothesis:- Series is stationary\n",
        "\n",
        "If p-value is greater than significance level (0.05) then we cannot reject the null hypothesis and the time series is non-stationary. Non-stationary means time series properties change with respect to time."
      ]
    },
    {
      "cell_type": "code",
      "execution_count": null,
      "id": "cd1865b5",
      "metadata": {
        "id": "cd1865b5"
      },
      "outputs": [],
      "source": [
        "def adfuller_test(series, name, signif=0.05):\n",
        "    \"\"\"Perform ADFuller to test for Stationarity of given series and print report\"\"\"\n",
        "    test_result = adfuller(series, autolag='AIC')\n",
        "    output = {'test_statistic':round(test_result[0], 4), \n",
        "              'pvalue':round(test_result[1], 4), \n",
        "              'n_lags':round(test_result[2], 4), \n",
        "              'n_obs':test_result[3]}\n",
        "    p_value = output['pvalue'] \n",
        "    def adjust(val, length= 6): return str(val).ljust(length)\n",
        "\n",
        "    # Print Summary\n",
        "    print(f'    Augmented Dickey-Fuller Test on \"{name}\"', \"\\n   \", '-'*47)\n",
        "    print(f' Null Hypothesis: Data has unit root. Non-Stationary.')\n",
        "    print(f' Significance Level    = {signif}')\n",
        "    print(f' Test Statistic        = {output[\"test_statistic\"]}')\n",
        "    print(f' No. of Lags Chosen       = {output[\"n_lags\"]}')\n",
        "    print(f' No. of Observations Chosen       = {output[\"n_obs\"]}')\n",
        "\n",
        "    for key, val in test_result[4].items():\n",
        "        print(f' Critical value {adjust(key)} = {round(val, 3)}')\n",
        "\n",
        "    if p_value <= signif:\n",
        "        print(f\" => P-Value = {p_value}. Rejecting Null Hypothesis.\")\n",
        "        print(f\" => Series is Stationary.\")\n",
        "    else:\n",
        "        print(f\" => P-Value = {p_value}. Weak evidence to reject the Null Hypothesis.\")\n",
        "        print(f\" => Series is Non-Stationary.\") "
      ]
    },
    {
      "cell_type": "code",
      "execution_count": null,
      "id": "c5326f1e",
      "metadata": {
        "id": "c5326f1e",
        "outputId": "4eedf483-6b0b-4a52-f33b-d1e6baa3d336"
      },
      "outputs": [
        {
          "name": "stdout",
          "output_type": "stream",
          "text": [
            "    Augmented Dickey-Fuller Test on \"demand\" \n",
            "    -----------------------------------------------\n",
            " Null Hypothesis: Data has unit root. Non-Stationary.\n",
            " Significance Level    = 0.05\n",
            " Test Statistic        = -10.9656\n",
            " No. of Lags Chosen       = 57\n",
            " No. of Observations Chosen       = 49147\n",
            " Critical value 1%     = -3.43\n",
            " Critical value 5%     = -2.862\n",
            " Critical value 10%    = -2.567\n",
            " => P-Value = 0.0. Rejecting Null Hypothesis.\n",
            " => Series is Stationary.\n",
            "    Augmented Dickey-Fuller Test on \"precip\" \n",
            "    -----------------------------------------------\n",
            " Null Hypothesis: Data has unit root. Non-Stationary.\n",
            " Significance Level    = 0.05\n",
            " Test Statistic        = -54.4371\n",
            " No. of Lags Chosen       = 10\n",
            " No. of Observations Chosen       = 49194\n",
            " Critical value 1%     = -3.43\n",
            " Critical value 5%     = -2.862\n",
            " Critical value 10%    = -2.567\n",
            " => P-Value = 0.0. Rejecting Null Hypothesis.\n",
            " => Series is Stationary.\n",
            "    Augmented Dickey-Fuller Test on \"temp\" \n",
            "    -----------------------------------------------\n",
            " Null Hypothesis: Data has unit root. Non-Stationary.\n",
            " Significance Level    = 0.05\n",
            " Test Statistic        = -6.7683\n",
            " No. of Lags Chosen       = 57\n",
            " No. of Observations Chosen       = 49147\n",
            " Critical value 1%     = -3.43\n",
            " Critical value 5%     = -2.862\n",
            " Critical value 10%    = -2.567\n",
            " => P-Value = 0.0. Rejecting Null Hypothesis.\n",
            " => Series is Stationary.\n"
          ]
        }
      ],
      "source": [
        "for i in range(len(df.columns)):\n",
        "    adfuller_test(df[df.columns[i]], df.columns[i])"
      ]
    },
    {
      "cell_type": "markdown",
      "id": "29b74f48",
      "metadata": {
        "id": "29b74f48"
      },
      "source": [
        "4. Testing Causation using Granger’s Causality Test"
      ]
    },
    {
      "cell_type": "markdown",
      "id": "348432c3",
      "metadata": {
        "id": "348432c3"
      },
      "source": [
        "Null Hypothesis (H0): Xt granger does not causes Yt\n",
        "\n",
        "Alternate Hypothesis (H1): Xt granger causes Yt\n",
        "\n",
        "If the null hypothesis is True that means if target variable is demand then precip and temp does not causes demand.\n",
        "\n",
        "If the null hypothesis is False we reject the null hypothesis and accept the alternate hypothesis. It means if target variable is demand then precip and temp causes demand.\n",
        "\n",
        "If p-value is greater than significance level (0.05) we cannot reject the null hypothesis."
      ]
    },
    {
      "cell_type": "code",
      "execution_count": null,
      "id": "a06faac9",
      "metadata": {
        "id": "a06faac9"
      },
      "outputs": [],
      "source": [
        "max_lags = 10\n",
        "y = 'demand' "
      ]
    },
    {
      "cell_type": "code",
      "execution_count": null,
      "id": "59501057",
      "metadata": {
        "scrolled": true,
        "id": "59501057"
      },
      "outputs": [],
      "source": [
        "maxlag = 12\n",
        "def grangers_causation_matrix(data, variables, test='ssr_chi2test', verbose=False):    \n",
        "    \"\"\"Check Granger Causality of all possible combinations of the Time series.\n",
        "    The rows are the response variable, columns are predictors. The values in the table \n",
        "    are the P-Values. P-Values lesser than the significance level (0.05), implies \n",
        "    the Null Hypothesis that the coefficients of the corresponding past values is \n",
        "    zero, that is, the X does not cause Y can be rejected. \n",
        "\n",
        "    data      : pandas dataframe containing the time series variables\n",
        "    variables : list containing names of the time series variables.\n",
        "    \"\"\"\n",
        "    matrix = pd.DataFrame(np.zeros((len(variables), len(variables))), columns=variables, index=variables)\n",
        "    for col in df.columns:\n",
        "        for row in matrix.index:\n",
        "            test_result = grangercausalitytests(data[[row, col]], maxlag=maxlag, verbose=False)\n",
        "            p_values = [round(test_result[i+1][0][test][1], 4) for i in range(maxlag)]\n",
        "            if verbose: \n",
        "                print(f'Y = {r}, X = {c}, P Values = {p_values}')\n",
        "            min_p_value = np.min(p_values)\n",
        "            df.loc[row, col] = min_p_value\n",
        "    matrix.columns = [var + '_x' for var in variables]\n",
        "    matrix.index = [var + '_y' for var in variables]\n",
        "    return matrix"
      ]
    },
    {
      "cell_type": "code",
      "execution_count": null,
      "id": "68d8ed26",
      "metadata": {
        "id": "68d8ed26",
        "outputId": "0433f244-d6a3-4341-acef-e3ed0b43d20a"
      },
      "outputs": [
        {
          "name": "stdout",
          "output_type": "stream",
          "text": [
            "          demand_x  precip_x  temp_x\n",
            "demand_y       0.0       0.0     0.0\n",
            "precip_y       0.0       0.0     0.0\n",
            "temp_y         0.0       0.0     0.0\n"
          ]
        }
      ],
      "source": [
        "result = grangers_causation_matrix(df, variables=df.columns)  \n",
        "print(result)"
      ]
    },
    {
      "cell_type": "markdown",
      "id": "29df0b22",
      "metadata": {
        "id": "29df0b22"
      },
      "source": [
        "5. Cointegration Test"
      ]
    },
    {
      "cell_type": "markdown",
      "id": "779dbc4e",
      "metadata": {
        "id": "779dbc4e"
      },
      "source": [
        "Cointegration test helps to establish the presence of a statistically significant connection between two or more time series."
      ]
    },
    {
      "cell_type": "code",
      "execution_count": null,
      "id": "8849aee3",
      "metadata": {
        "id": "8849aee3"
      },
      "outputs": [],
      "source": [
        "def cointegration_test(df, alpha=0.05): \n",
        "    \"\"\"Perform Johanson's Cointegration Test and Report Summary\"\"\"\n",
        "    out = coint_johansen(df, -1, 5)\n",
        "    d = {'0.90':0, '0.95':1, '0.99':2}\n",
        "    traces = out.lr1\n",
        "    cvts = out.cvt[:, d[str(1-alpha)]]\n",
        "    def adjust(val, length=6): return str(val).ljust(length)\n",
        "\n",
        "    # Summary\n",
        "    print('Name   ::  Test Stat > C(95%)    =>   Signif  \\n', '--'*20)\n",
        "    for col, trace, cvt in zip(df.columns, traces, cvts):\n",
        "        print(adjust(col), ':: ', adjust(round(trace, 2), 9), \">\", adjust(cvt, 8), ' =>  ' , trace > cvt)"
      ]
    },
    {
      "cell_type": "code",
      "execution_count": null,
      "id": "f8738729",
      "metadata": {
        "id": "f8738729",
        "outputId": "33dad23f-a462-4b4b-a092-e2a03bc038f9"
      },
      "outputs": [
        {
          "name": "stdout",
          "output_type": "stream",
          "text": [
            "Name   ::  Test Stat > C(95%)    =>   Signif  \n",
            " ----------------------------------------\n",
            "demand ::  5058.4    > 24.2761   =>   True\n",
            "precip ::  418.13    > 12.3212   =>   True\n",
            "temp   ::  22.76     > 4.1296    =>   True\n"
          ]
        }
      ],
      "source": [
        "result = cointegration_test(df)\n",
        "result"
      ]
    },
    {
      "cell_type": "markdown",
      "id": "1944daa7",
      "metadata": {
        "id": "1944daa7"
      },
      "source": [
        "6. Split the Series into Training and Testing Data"
      ]
    },
    {
      "cell_type": "code",
      "execution_count": null,
      "id": "d5f18f49",
      "metadata": {
        "id": "d5f18f49",
        "outputId": "879fc419-edda-42c4-ed33-dec5ec6e9ad1"
      },
      "outputs": [
        {
          "data": {
            "text/plain": [
              "((53, 3), (16, 3))"
            ]
          },
          "execution_count": 121,
          "metadata": {},
          "output_type": "execute_result"
        }
      ],
      "source": [
        "nobs = 15\n",
        "train_df = df[:-nobs]\n",
        "test_df = df[-nobs-1:]\n",
        "train_df.shape, test_df.shape"
      ]
    },
    {
      "cell_type": "markdown",
      "id": "01657b09",
      "metadata": {
        "id": "01657b09"
      },
      "source": [
        "7. Train the VAR Model of Selected Order(p)"
      ]
    },
    {
      "cell_type": "code",
      "execution_count": null,
      "id": "d1d9a54d",
      "metadata": {
        "id": "d1d9a54d"
      },
      "outputs": [],
      "source": [
        "results = model.fit(10)"
      ]
    },
    {
      "cell_type": "code",
      "execution_count": null,
      "id": "46ac8f2b",
      "metadata": {
        "id": "46ac8f2b",
        "outputId": "c78ef0d7-4a2d-4f52-a0dd-f5c78f530301"
      },
      "outputs": [
        {
          "data": {
            "text/plain": [
              "  Summary of Regression Results   \n",
              "==================================\n",
              "Model:                         VAR\n",
              "Method:                        OLS\n",
              "Date:           Thu, 30, Jun, 2022\n",
              "Time:                     02:48:36\n",
              "--------------------------------------------------------------------\n",
              "No. of Equations:         3.00000    BIC:                    4.35634\n",
              "Nobs:                     43.0000    HQIC:                   1.95191\n",
              "Log likelihood:          -101.809    FPE:                    5.36086\n",
              "AIC:                     0.547230    Det(Omega_mle):         1.05183\n",
              "--------------------------------------------------------------------\n",
              "Results for equation demand\n",
              "=============================================================================\n",
              "                coefficient       std. error           t-stat            prob\n",
              "-----------------------------------------------------------------------------\n",
              "const          12390.709743      4283.738686            2.892           0.004\n",
              "L1.demand          0.082192         0.246579            0.333           0.739\n",
              "L1.precip       5589.127721     44758.360858            0.125           0.901\n",
              "L1.temp          -24.886109        15.276097           -1.629           0.103\n",
              "L2.demand         -0.144480         0.266538           -0.542           0.588\n",
              "L2.precip       8825.358663     33542.063038            0.263           0.792\n",
              "L2.temp            6.937944        19.306042            0.359           0.719\n",
              "L3.demand         -0.425609         0.280843           -1.515           0.130\n",
              "L3.precip     -27338.687085     33845.425825           -0.808           0.419\n",
              "L3.temp           17.852471        23.887770            0.747           0.455\n",
              "L4.demand          0.204765         0.248508            0.824           0.410\n",
              "L4.precip        699.135491     40746.584317            0.017           0.986\n",
              "L4.temp           -6.611776        21.700354           -0.305           0.761\n",
              "L5.demand          0.051333         0.260225            0.197           0.844\n",
              "L5.precip      26444.261501     36014.856147            0.734           0.463\n",
              "L5.temp          -20.535341        22.157394           -0.927           0.354\n",
              "L6.demand         -0.069842         0.263985           -0.265           0.791\n",
              "L6.precip     -39543.373176     37385.591124           -1.058           0.290\n",
              "L6.temp          -23.210617        21.804020           -1.065           0.287\n",
              "L7.demand          0.212905         0.273699            0.778           0.437\n",
              "L7.precip      21488.981196     39290.880143            0.547           0.584\n",
              "L7.temp          -30.566221        22.861402           -1.337           0.181\n",
              "L8.demand          0.000148         0.271651            0.001           1.000\n",
              "L8.precip       1709.478367     36990.890161            0.046           0.963\n",
              "L8.temp           11.596791        22.278678            0.521           0.603\n",
              "L9.demand         -0.443110         0.265964           -1.666           0.096\n",
              "L9.precip      45526.767466     34826.312692            1.307           0.191\n",
              "L9.temp           19.875784        23.534546            0.845           0.398\n",
              "L10.demand         0.061630         0.274586            0.224           0.822\n",
              "L10.precip     86263.583887     37915.717823            2.275           0.023\n",
              "L10.temp         -24.187937        20.183025           -1.198           0.231\n",
              "=============================================================================\n",
              "\n",
              "Results for equation precip\n",
              "=============================================================================\n",
              "                coefficient       std. error           t-stat            prob\n",
              "-----------------------------------------------------------------------------\n",
              "const             -0.009297         0.025353           -0.367           0.714\n",
              "L1.demand          0.000003         0.000001            1.992           0.046\n",
              "L1.precip          0.359096         0.264895            1.356           0.175\n",
              "L1.temp           -0.000108         0.000090           -1.197           0.231\n",
              "L2.demand         -0.000004         0.000002           -2.717           0.007\n",
              "L2.precip         -0.131538         0.198513           -0.663           0.508\n",
              "L2.temp            0.000283         0.000114            2.480           0.013\n",
              "L3.demand          0.000002         0.000002            1.131           0.258\n",
              "L3.precip          0.510659         0.200309            2.549           0.011\n",
              "L3.temp           -0.000219         0.000141           -1.546           0.122\n",
              "L4.demand          0.000002         0.000001            1.044           0.296\n",
              "L4.precip          0.090718         0.241152            0.376           0.707\n",
              "L4.temp           -0.000132         0.000128           -1.027           0.304\n",
              "L5.demand         -0.000002         0.000002           -1.298           0.194\n",
              "L5.precip         -0.253101         0.213148           -1.187           0.235\n",
              "L5.temp            0.000158         0.000131            1.205           0.228\n",
              "L6.demand          0.000002         0.000002            1.394           0.163\n",
              "L6.precip          0.119816         0.221260            0.542           0.588\n",
              "L6.temp           -0.000182         0.000129           -1.412           0.158\n",
              "L7.demand          0.000001         0.000002            0.574           0.566\n",
              "L7.precip         -0.062643         0.232537           -0.269           0.788\n",
              "L7.temp            0.000172         0.000135            1.275           0.202\n",
              "L8.demand         -0.000003         0.000002           -1.799           0.072\n",
              "L8.precip         -0.039723         0.218924           -0.181           0.856\n",
              "L8.temp           -0.000021         0.000132           -0.160           0.873\n",
              "L9.demand          0.000005         0.000002            2.913           0.004\n",
              "L9.precip          0.407396         0.206114            1.977           0.048\n",
              "L9.temp           -0.000130         0.000139           -0.930           0.352\n",
              "L10.demand        -0.000001         0.000002           -0.859           0.390\n",
              "L10.precip        -0.137950         0.224398           -0.615           0.539\n",
              "L10.temp          -0.000030         0.000119           -0.253           0.801\n",
              "=============================================================================\n",
              "\n",
              "Results for equation temp\n",
              "=============================================================================\n",
              "                coefficient       std. error           t-stat            prob\n",
              "-----------------------------------------------------------------------------\n",
              "const            -20.540966        78.186918           -0.263           0.793\n",
              "L1.demand          0.004931         0.004501            1.096           0.273\n",
              "L1.precip        -50.243314       816.930850           -0.062           0.951\n",
              "L1.temp            0.491394         0.278820            1.762           0.078\n",
              "L2.demand         -0.004221         0.004865           -0.868           0.386\n",
              "L2.precip       -527.588369       612.210669           -0.862           0.389\n",
              "L2.temp            0.117897         0.352374            0.335           0.738\n",
              "L3.demand          0.007603         0.005126            1.483           0.138\n",
              "L3.precip        245.703912       617.747655            0.398           0.691\n",
              "L3.temp            0.292814         0.436000            0.672           0.502\n",
              "L4.demand         -0.006616         0.004536           -1.459           0.145\n",
              "L4.precip       -118.482458       743.707792           -0.159           0.873\n",
              "L4.temp           -0.047721         0.396075           -0.120           0.904\n",
              "L5.demand          0.004911         0.004750            1.034           0.301\n",
              "L5.precip        938.225892       657.344158            1.427           0.153\n",
              "L5.temp           -0.620111         0.404417           -1.533           0.125\n",
              "L6.demand         -0.002216         0.004818           -0.460           0.646\n",
              "L6.precip       -524.297902       682.362851           -0.768           0.442\n",
              "L6.temp           -0.029491         0.397968           -0.074           0.941\n",
              "L7.demand          0.000422         0.004996            0.084           0.933\n",
              "L7.precip       -244.203715       717.138239           -0.341           0.733\n",
              "L7.temp            0.037725         0.417267            0.090           0.928\n",
              "L8.demand         -0.001154         0.004958           -0.233           0.816\n",
              "L8.precip       -559.155519       675.158758           -0.828           0.408\n",
              "L8.temp            0.229670         0.406631            0.565           0.572\n",
              "L9.demand          0.002550         0.004854            0.525           0.599\n",
              "L9.precip        493.178536       635.650830            0.776           0.438\n",
              "L9.temp            0.194465         0.429553            0.453           0.651\n",
              "L10.demand         0.002375         0.005012            0.474           0.636\n",
              "L10.precip      -615.329591       692.038738           -0.889           0.374\n",
              "L10.temp          -0.172961         0.368381           -0.470           0.639\n",
              "=============================================================================\n",
              "\n",
              "Correlation matrix of residuals\n",
              "            demand    precip      temp\n",
              "demand    1.000000 -0.159701  0.625230\n",
              "precip   -0.159701  1.000000 -0.167866\n",
              "temp      0.625230 -0.167866  1.000000\n",
              "\n"
            ]
          },
          "execution_count": 153,
          "metadata": {},
          "output_type": "execute_result"
        }
      ],
      "source": [
        "results.summary()"
      ]
    },
    {
      "cell_type": "markdown",
      "id": "fb6ca275",
      "metadata": {
        "id": "fb6ca275"
      },
      "source": [
        "8. Check for Serial Correlation of Residuals (Errors) using Durbin Watson Statistic"
      ]
    },
    {
      "cell_type": "markdown",
      "id": "f5b7dc80",
      "metadata": {
        "id": "f5b7dc80"
      },
      "source": [
        "Serial correlation of residuals is used to check if there is any leftover pattern in the residuals (errors).\n",
        "\n",
        "The value of this statistic can vary between 0 and 4. The closer it is to the value 2, then there is no significant serial correlation. The closer to 0, there is a positive serial correlation, and the closer it is to 4 implies negative serial correlation."
      ]
    },
    {
      "cell_type": "code",
      "execution_count": null,
      "id": "b58a446b",
      "metadata": {
        "id": "b58a446b",
        "outputId": "c42a2293-262e-4be5-9cbf-ab68c75c25b3"
      },
      "outputs": [
        {
          "name": "stdout",
          "output_type": "stream",
          "text": [
            "demand : 2.0\n",
            "precip : 2.0\n",
            "temp   : 2.0\n"
          ]
        }
      ],
      "source": [
        "out = durbin_watson(model_results.resid)\n",
        "def adjust(val, length=6): \n",
        "    return str(val).ljust(length)\n",
        "for col, val in zip(df.columns, out):\n",
        "    print(adjust(col), ':', round(val, 2)) # there is no pattern left"
      ]
    },
    {
      "cell_type": "markdown",
      "id": "aee1570f",
      "metadata": {
        "id": "aee1570f"
      },
      "source": [
        "9. How to Forecast VAR model using statsmodels"
      ]
    },
    {
      "cell_type": "markdown",
      "id": "6890925d",
      "metadata": {
        "id": "6890925d"
      },
      "source": [
        "In order to forecast, the VAR model expects up to the lag order number of observations from the past data."
      ]
    },
    {
      "cell_type": "code",
      "execution_count": null,
      "id": "2f61c38c",
      "metadata": {
        "id": "2f61c38c",
        "outputId": "489a9e53-08b1-4519-ba6a-208f9bf33d16"
      },
      "outputs": [
        {
          "data": {
            "text/plain": [
              "10"
            ]
          },
          "execution_count": 154,
          "metadata": {},
          "output_type": "execute_result"
        }
      ],
      "source": [
        "# Get the lag order\n",
        "lag = results.k_ar\n",
        "lag"
      ]
    },
    {
      "cell_type": "code",
      "execution_count": null,
      "id": "649375f5",
      "metadata": {
        "id": "649375f5",
        "outputId": "f679cd5d-8fb4-491f-eec3-28525f5aea21"
      },
      "outputs": [
        {
          "data": {
            "text/plain": [
              "array([[ 6.91806872e+03,  9.29376527e-04,  4.38498481e+01],\n",
              "       [ 7.06208695e+03,  6.61425216e-03,  5.82198798e+01],\n",
              "       [ 6.41223045e+03, -2.01749768e-03,  5.38352617e+01],\n",
              "       [ 5.75289238e+03, -5.53055419e-04,  6.63878542e+01],\n",
              "       [ 6.01908153e+03,  1.87974782e-03,  6.44883020e+01],\n",
              "       [ 6.78583848e+03, -3.42216200e-04,  6.61788706e+01],\n",
              "       [ 6.75655038e+03, -4.93184578e-04,  6.31458503e+01],\n",
              "       [ 5.94484410e+03,  9.26119470e-04,  5.33180804e+01],\n",
              "       [ 5.93161825e+03, -3.28074491e-03,  4.13287516e+01],\n",
              "       [ 5.21764359e+03,  2.66673170e-03,  4.56423004e+01],\n",
              "       [ 5.03058854e+03,  2.81976114e-03,  5.01986367e+01],\n",
              "       [ 5.22098993e+03,  6.82017804e-04,  4.37922207e+01],\n",
              "       [ 5.98782730e+03,  3.84182786e-03,  4.98975053e+01],\n",
              "       [ 6.01119294e+03,  1.27941896e-03,  6.21459529e+01],\n",
              "       [ 5.91328994e+03, -1.46444643e-03,  6.52746724e+01],\n",
              "       [ 5.18466029e+03,  2.78973247e-03,  7.22068544e+01],\n",
              "       [ 5.35657455e+03, -3.78982247e-03,  6.98240180e+01],\n",
              "       [ 5.66660818e+03, -1.63712689e-03,  6.73773553e+01],\n",
              "       [ 6.14483213e+03,  9.00884246e-04,  6.31179478e+01],\n",
              "       [ 6.31898485e+03, -4.01032733e-03,  5.31053328e+01]])"
            ]
          },
          "execution_count": 155,
          "metadata": {},
          "output_type": "execute_result"
        }
      ],
      "source": [
        "results.forecast(df_train.values[-lag:], steps=20)"
      ]
    },
    {
      "cell_type": "code",
      "execution_count": null,
      "id": "cf49b571",
      "metadata": {
        "id": "cf49b571",
        "outputId": "48e34847-9704-44c3-e7ec-8b1bf9477b3d"
      },
      "outputs": [
        {
          "data": {
            "text/html": [
              "<div>\n",
              "<style scoped>\n",
              "    .dataframe tbody tr th:only-of-type {\n",
              "        vertical-align: middle;\n",
              "    }\n",
              "\n",
              "    .dataframe tbody tr th {\n",
              "        vertical-align: top;\n",
              "    }\n",
              "\n",
              "    .dataframe thead th {\n",
              "        text-align: right;\n",
              "    }\n",
              "</style>\n",
              "<table border=\"1\" class=\"dataframe\">\n",
              "  <thead>\n",
              "    <tr style=\"text-align: right;\">\n",
              "      <th></th>\n",
              "      <th>demand_prediction</th>\n",
              "      <th>precip_prediction</th>\n",
              "      <th>temp_prediction</th>\n",
              "    </tr>\n",
              "    <tr>\n",
              "      <th>timeStamp</th>\n",
              "      <th></th>\n",
              "      <th></th>\n",
              "      <th></th>\n",
              "    </tr>\n",
              "  </thead>\n",
              "  <tbody>\n",
              "    <tr>\n",
              "      <th>2016-06-30</th>\n",
              "      <td>5847.006312</td>\n",
              "      <td>0.001229</td>\n",
              "      <td>73.942212</td>\n",
              "    </tr>\n",
              "    <tr>\n",
              "      <th>2016-07-31</th>\n",
              "      <td>6495.967981</td>\n",
              "      <td>-0.001209</td>\n",
              "      <td>73.766172</td>\n",
              "    </tr>\n",
              "    <tr>\n",
              "      <th>2016-08-31</th>\n",
              "      <td>6847.163540</td>\n",
              "      <td>0.001997</td>\n",
              "      <td>68.321306</td>\n",
              "    </tr>\n",
              "    <tr>\n",
              "      <th>2016-09-30</th>\n",
              "      <td>6590.384920</td>\n",
              "      <td>-0.001054</td>\n",
              "      <td>69.051364</td>\n",
              "    </tr>\n",
              "    <tr>\n",
              "      <th>2016-10-31</th>\n",
              "      <td>5389.455452</td>\n",
              "      <td>-0.004220</td>\n",
              "      <td>57.824338</td>\n",
              "    </tr>\n",
              "    <tr>\n",
              "      <th>2016-11-30</th>\n",
              "      <td>5107.916678</td>\n",
              "      <td>0.000556</td>\n",
              "      <td>46.770985</td>\n",
              "    </tr>\n",
              "    <tr>\n",
              "      <th>2016-12-31</th>\n",
              "      <td>5561.806480</td>\n",
              "      <td>0.000022</td>\n",
              "      <td>41.921873</td>\n",
              "    </tr>\n",
              "    <tr>\n",
              "      <th>2017-01-31</th>\n",
              "      <td>5865.997247</td>\n",
              "      <td>-0.002934</td>\n",
              "      <td>37.884095</td>\n",
              "    </tr>\n",
              "    <tr>\n",
              "      <th>2017-02-28</th>\n",
              "      <td>5669.750779</td>\n",
              "      <td>0.001109</td>\n",
              "      <td>38.798886</td>\n",
              "    </tr>\n",
              "    <tr>\n",
              "      <th>2017-03-31</th>\n",
              "      <td>5686.131924</td>\n",
              "      <td>-0.001131</td>\n",
              "      <td>42.355302</td>\n",
              "    </tr>\n",
              "    <tr>\n",
              "      <th>2017-04-30</th>\n",
              "      <td>5421.027950</td>\n",
              "      <td>-0.003266</td>\n",
              "      <td>52.735330</td>\n",
              "    </tr>\n",
              "    <tr>\n",
              "      <th>2017-05-31</th>\n",
              "      <td>5142.557334</td>\n",
              "      <td>-0.000981</td>\n",
              "      <td>66.152825</td>\n",
              "    </tr>\n",
              "    <tr>\n",
              "      <th>2017-06-30</th>\n",
              "      <td>5750.754727</td>\n",
              "      <td>-0.000613</td>\n",
              "      <td>73.419911</td>\n",
              "    </tr>\n",
              "    <tr>\n",
              "      <th>2017-07-31</th>\n",
              "      <td>6359.161114</td>\n",
              "      <td>-0.002857</td>\n",
              "      <td>74.855963</td>\n",
              "    </tr>\n",
              "    <tr>\n",
              "      <th>2017-08-31</th>\n",
              "      <td>6313.542001</td>\n",
              "      <td>-0.002798</td>\n",
              "      <td>74.600084</td>\n",
              "    </tr>\n",
              "  </tbody>\n",
              "</table>\n",
              "</div>"
            ],
            "text/plain": [
              "            demand_prediction  precip_prediction  temp_prediction\n",
              "timeStamp                                                        \n",
              "2016-06-30        5847.006312           0.001229        73.942212\n",
              "2016-07-31        6495.967981          -0.001209        73.766172\n",
              "2016-08-31        6847.163540           0.001997        68.321306\n",
              "2016-09-30        6590.384920          -0.001054        69.051364\n",
              "2016-10-31        5389.455452          -0.004220        57.824338\n",
              "2016-11-30        5107.916678           0.000556        46.770985\n",
              "2016-12-31        5561.806480           0.000022        41.921873\n",
              "2017-01-31        5865.997247          -0.002934        37.884095\n",
              "2017-02-28        5669.750779           0.001109        38.798886\n",
              "2017-03-31        5686.131924          -0.001131        42.355302\n",
              "2017-04-30        5421.027950          -0.003266        52.735330\n",
              "2017-05-31        5142.557334          -0.000981        66.152825\n",
              "2017-06-30        5750.754727          -0.000613        73.419911\n",
              "2017-07-31        6359.161114          -0.002857        74.855963\n",
              "2017-08-31        6313.542001          -0.002798        74.600084"
            ]
          },
          "execution_count": 159,
          "metadata": {},
          "output_type": "execute_result"
        }
      ],
      "source": [
        "# Forecast\n",
        "fc = results.forecast(train_df.values[-lag:], steps=nobs)\n",
        "df_forecast = pd.DataFrame(fc, index=final_df.index[-nobs:], columns=df.columns+\"_prediction\")\n",
        "df_forecast"
      ]
    },
    {
      "cell_type": "markdown",
      "id": "824cbeb7",
      "metadata": {
        "id": "824cbeb7"
      },
      "source": [
        "10. Visualize the Time Series "
      ]
    },
    {
      "cell_type": "code",
      "execution_count": null,
      "id": "c104cf1e",
      "metadata": {
        "id": "c104cf1e",
        "outputId": "9814e081-8619-47de-9ce3-71aa13a373db"
      },
      "outputs": [
        {
          "data": {
            "image/png": "[encoded data removed]",
            "text/plain": [
              "<Figure size 720x720 with 3 Axes>"
            ]
          },
          "metadata": {
            "needs_background": "light"
          },
          "output_type": "display_data"
        }
      ],
      "source": [
        "results.plot();"
      ]
    },
    {
      "cell_type": "markdown",
      "id": "8cf7c6a0",
      "metadata": {
        "id": "8cf7c6a0"
      },
      "source": [
        "11.  Plot of Prediction vs Actuals"
      ]
    },
    {
      "cell_type": "code",
      "execution_count": null,
      "id": "4d59f4f4",
      "metadata": {
        "scrolled": true,
        "id": "4d59f4f4",
        "outputId": "b84f14c4-cf58-4b65-b4a6-21654a23344a"
      },
      "outputs": [
        {
          "data": {
            "image/png": "[encoded data removed]",
            "text/plain": [
              "<Figure size 432x288 with 1 Axes>"
            ]
          },
          "metadata": {
            "needs_background": "light"
          },
          "output_type": "display_data"
        }
      ],
      "source": [
        "pd.concat([df['demand'], df_forecast['demand_prediction']], axis=1).plot()\n",
        "plt.show()"
      ]
    },
    {
      "cell_type": "code",
      "execution_count": null,
      "id": "9134d9d2",
      "metadata": {
        "scrolled": true,
        "id": "9134d9d2",
        "outputId": "350771a9-3aca-4707-c8f8-32adfd7425a7"
      },
      "outputs": [
        {
          "data": {
            "image/png": "[encoded data removed]",
            "text/plain": [
              "<Figure size 432x288 with 1 Axes>"
            ]
          },
          "metadata": {
            "needs_background": "light"
          },
          "output_type": "display_data"
        }
      ],
      "source": [
        "pd.concat([df['precip'], df_forecast['precip_prediction']], axis=1).plot()\n",
        "plt.show()"
      ]
    },
    {
      "cell_type": "code",
      "execution_count": null,
      "id": "e6463ecd",
      "metadata": {
        "id": "e6463ecd",
        "outputId": "a6e3a50e-a74d-4df7-cf88-bb130b12f491"
      },
      "outputs": [
        {
          "data": {
            "image/png": "[encoded data removed]",
            "text/plain": [
              "<Figure size 432x288 with 1 Axes>"
            ]
          },
          "metadata": {
            "needs_background": "light"
          },
          "output_type": "display_data"
        }
      ],
      "source": [
        "pd.concat([df['temp'], df_forecast['temp_prediction']], axis=1).plot()\n",
        "plt.show()"
      ]
    }
  ],
  "metadata": {
    "kernelspec": {
      "display_name": "Python 3 (ipykernel)",
      "language": "python",
      "name": "python3"
    },
    "language_info": {
      "codemirror_mode": {
        "name": "ipython",
        "version": 3
      },
      "file_extension": ".py",
      "mimetype": "text/x-python",
      "name": "python",
      "nbconvert_exporter": "python",
      "pygments_lexer": "ipython3",
      "version": "3.9.7"
    },
    "colab": {
      "name": "energy_consumption_var_multivariate.ipynb",
      "provenance": [],
      "collapsed_sections": [],
      "include_colab_link": true
    }
  },
  "nbformat": 4,
  "nbformat_minor": 5
}