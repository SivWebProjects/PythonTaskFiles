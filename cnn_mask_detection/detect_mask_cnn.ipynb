{
 "cells": [
  {
   "cell_type": "markdown",
   "metadata": {
    "colab_type": "text",
    "id": "3DR-eO17geWu"
   },
   "source": [
    "# Convolutional Neural Network"
   ]
  },
  {
   "cell_type": "markdown",
   "metadata": {
    "colab_type": "text",
    "id": "EMefrVPCg-60"
   },
   "source": [
    "### Importing the libraries"
   ]
  },
  {
   "cell_type": "code",
   "execution_count": 1,
   "metadata": {},
   "outputs": [
    {
     "name": "stdout",
     "output_type": "stream",
     "text": [
      "Requirement already satisfied: tensorflow in /home/neosoft/Downloads/PREFIX=/home/neosoft/anaconda3/lib/python3.9/site-packages (2.8.0)\n",
      "Requirement already satisfied: astunparse>=1.6.0 in /home/neosoft/Downloads/PREFIX=/home/neosoft/anaconda3/lib/python3.9/site-packages (from tensorflow) (1.6.3)\n",
      "Requirement already satisfied: google-pasta>=0.1.1 in /home/neosoft/Downloads/PREFIX=/home/neosoft/anaconda3/lib/python3.9/site-packages (from tensorflow) (0.2.0)\n",
      "Requirement already satisfied: numpy>=1.20 in /home/neosoft/Downloads/PREFIX=/home/neosoft/anaconda3/lib/python3.9/site-packages (from tensorflow) (1.20.3)\n",
      "Requirement already satisfied: keras<2.9,>=2.8.0rc0 in /home/neosoft/Downloads/PREFIX=/home/neosoft/anaconda3/lib/python3.9/site-packages (from tensorflow) (2.8.0)\n",
      "Requirement already satisfied: opt-einsum>=2.3.2 in /home/neosoft/Downloads/PREFIX=/home/neosoft/anaconda3/lib/python3.9/site-packages (from tensorflow) (3.3.0)\n",
      "Requirement already satisfied: gast>=0.2.1 in /home/neosoft/Downloads/PREFIX=/home/neosoft/anaconda3/lib/python3.9/site-packages (from tensorflow) (0.5.3)\n",
      "Requirement already satisfied: setuptools in /home/neosoft/Downloads/PREFIX=/home/neosoft/anaconda3/lib/python3.9/site-packages (from tensorflow) (58.0.4)\n",
      "Requirement already satisfied: protobuf>=3.9.2 in /home/neosoft/Downloads/PREFIX=/home/neosoft/anaconda3/lib/python3.9/site-packages (from tensorflow) (3.20.1)\n",
      "Requirement already satisfied: grpcio<2.0,>=1.24.3 in /home/neosoft/Downloads/PREFIX=/home/neosoft/anaconda3/lib/python3.9/site-packages (from tensorflow) (1.44.0)\n",
      "Requirement already satisfied: six>=1.12.0 in /home/neosoft/Downloads/PREFIX=/home/neosoft/anaconda3/lib/python3.9/site-packages (from tensorflow) (1.16.0)\n",
      "Requirement already satisfied: tf-estimator-nightly==2.8.0.dev2021122109 in /home/neosoft/Downloads/PREFIX=/home/neosoft/anaconda3/lib/python3.9/site-packages (from tensorflow) (2.8.0.dev2021122109)\n",
      "Requirement already satisfied: flatbuffers>=1.12 in /home/neosoft/Downloads/PREFIX=/home/neosoft/anaconda3/lib/python3.9/site-packages (from tensorflow) (2.0)\n",
      "Requirement already satisfied: tensorboard<2.9,>=2.8 in /home/neosoft/Downloads/PREFIX=/home/neosoft/anaconda3/lib/python3.9/site-packages (from tensorflow) (2.8.0)\n",
      "Requirement already satisfied: typing-extensions>=3.6.6 in /home/neosoft/Downloads/PREFIX=/home/neosoft/anaconda3/lib/python3.9/site-packages (from tensorflow) (3.10.0.2)\n",
      "Requirement already satisfied: wrapt>=1.11.0 in /home/neosoft/Downloads/PREFIX=/home/neosoft/anaconda3/lib/python3.9/site-packages (from tensorflow) (1.12.1)\n",
      "Requirement already satisfied: absl-py>=0.4.0 in /home/neosoft/Downloads/PREFIX=/home/neosoft/anaconda3/lib/python3.9/site-packages (from tensorflow) (1.0.0)\n",
      "Requirement already satisfied: libclang>=9.0.1 in /home/neosoft/Downloads/PREFIX=/home/neosoft/anaconda3/lib/python3.9/site-packages (from tensorflow) (14.0.1)\n",
      "Requirement already satisfied: tensorflow-io-gcs-filesystem>=0.23.1 in /home/neosoft/Downloads/PREFIX=/home/neosoft/anaconda3/lib/python3.9/site-packages (from tensorflow) (0.25.0)\n",
      "Requirement already satisfied: h5py>=2.9.0 in /home/neosoft/Downloads/PREFIX=/home/neosoft/anaconda3/lib/python3.9/site-packages (from tensorflow) (3.6.0)\n",
      "Requirement already satisfied: keras-preprocessing>=1.1.1 in /home/neosoft/Downloads/PREFIX=/home/neosoft/anaconda3/lib/python3.9/site-packages (from tensorflow) (1.1.2)\n",
      "Requirement already satisfied: termcolor>=1.1.0 in /home/neosoft/Downloads/PREFIX=/home/neosoft/anaconda3/lib/python3.9/site-packages (from tensorflow) (1.1.0)\n",
      "Requirement already satisfied: wheel<1.0,>=0.23.0 in /home/neosoft/Downloads/PREFIX=/home/neosoft/anaconda3/lib/python3.9/site-packages (from astunparse>=1.6.0->tensorflow) (0.37.1)\n",
      "Requirement already satisfied: google-auth-oauthlib<0.5,>=0.4.1 in /home/neosoft/Downloads/PREFIX=/home/neosoft/anaconda3/lib/python3.9/site-packages (from tensorboard<2.9,>=2.8->tensorflow) (0.4.6)\n",
      "Requirement already satisfied: tensorboard-data-server<0.7.0,>=0.6.0 in /home/neosoft/Downloads/PREFIX=/home/neosoft/anaconda3/lib/python3.9/site-packages (from tensorboard<2.9,>=2.8->tensorflow) (0.6.1)\n",
      "Requirement already satisfied: requests<3,>=2.21.0 in /home/neosoft/Downloads/PREFIX=/home/neosoft/anaconda3/lib/python3.9/site-packages (from tensorboard<2.9,>=2.8->tensorflow) (2.27.1)\n",
      "Requirement already satisfied: markdown>=2.6.8 in /home/neosoft/Downloads/PREFIX=/home/neosoft/anaconda3/lib/python3.9/site-packages (from tensorboard<2.9,>=2.8->tensorflow) (3.3.6)\n",
      "Requirement already satisfied: google-auth<3,>=1.6.3 in /home/neosoft/Downloads/PREFIX=/home/neosoft/anaconda3/lib/python3.9/site-packages (from tensorboard<2.9,>=2.8->tensorflow) (2.6.6)\n",
      "Requirement already satisfied: werkzeug>=0.11.15 in /home/neosoft/Downloads/PREFIX=/home/neosoft/anaconda3/lib/python3.9/site-packages (from tensorboard<2.9,>=2.8->tensorflow) (2.0.2)\n",
      "Requirement already satisfied: tensorboard-plugin-wit>=1.6.0 in /home/neosoft/Downloads/PREFIX=/home/neosoft/anaconda3/lib/python3.9/site-packages (from tensorboard<2.9,>=2.8->tensorflow) (1.8.1)\n",
      "Requirement already satisfied: pyasn1-modules>=0.2.1 in /home/neosoft/Downloads/PREFIX=/home/neosoft/anaconda3/lib/python3.9/site-packages (from google-auth<3,>=1.6.3->tensorboard<2.9,>=2.8->tensorflow) (0.2.8)\n",
      "Requirement already satisfied: rsa<5,>=3.1.4 in /home/neosoft/Downloads/PREFIX=/home/neosoft/anaconda3/lib/python3.9/site-packages (from google-auth<3,>=1.6.3->tensorboard<2.9,>=2.8->tensorflow) (4.8)\n",
      "Requirement already satisfied: cachetools<6.0,>=2.0.0 in /home/neosoft/Downloads/PREFIX=/home/neosoft/anaconda3/lib/python3.9/site-packages (from google-auth<3,>=1.6.3->tensorboard<2.9,>=2.8->tensorflow) (5.0.0)\n",
      "Requirement already satisfied: requests-oauthlib>=0.7.0 in /home/neosoft/Downloads/PREFIX=/home/neosoft/anaconda3/lib/python3.9/site-packages (from google-auth-oauthlib<0.5,>=0.4.1->tensorboard<2.9,>=2.8->tensorflow) (1.3.1)\n",
      "Requirement already satisfied: importlib-metadata>=4.4 in /home/neosoft/Downloads/PREFIX=/home/neosoft/anaconda3/lib/python3.9/site-packages (from markdown>=2.6.8->tensorboard<2.9,>=2.8->tensorflow) (4.8.2)\n",
      "Requirement already satisfied: zipp>=0.5 in /home/neosoft/Downloads/PREFIX=/home/neosoft/anaconda3/lib/python3.9/site-packages (from importlib-metadata>=4.4->markdown>=2.6.8->tensorboard<2.9,>=2.8->tensorflow) (3.7.0)\n",
      "Requirement already satisfied: pyasn1<0.5.0,>=0.4.6 in /home/neosoft/Downloads/PREFIX=/home/neosoft/anaconda3/lib/python3.9/site-packages (from pyasn1-modules>=0.2.1->google-auth<3,>=1.6.3->tensorboard<2.9,>=2.8->tensorflow) (0.4.8)\n",
      "Requirement already satisfied: idna<4,>=2.5 in /home/neosoft/Downloads/PREFIX=/home/neosoft/anaconda3/lib/python3.9/site-packages (from requests<3,>=2.21.0->tensorboard<2.9,>=2.8->tensorflow) (3.3)\n",
      "Requirement already satisfied: charset-normalizer~=2.0.0 in /home/neosoft/Downloads/PREFIX=/home/neosoft/anaconda3/lib/python3.9/site-packages (from requests<3,>=2.21.0->tensorboard<2.9,>=2.8->tensorflow) (2.0.4)\n",
      "Requirement already satisfied: urllib3<1.27,>=1.21.1 in /home/neosoft/Downloads/PREFIX=/home/neosoft/anaconda3/lib/python3.9/site-packages (from requests<3,>=2.21.0->tensorboard<2.9,>=2.8->tensorflow) (1.26.8)\n",
      "Requirement already satisfied: certifi>=2017.4.17 in /home/neosoft/Downloads/PREFIX=/home/neosoft/anaconda3/lib/python3.9/site-packages (from requests<3,>=2.21.0->tensorboard<2.9,>=2.8->tensorflow) (2021.10.8)\n",
      "Requirement already satisfied: oauthlib>=3.0.0 in /home/neosoft/Downloads/PREFIX=/home/neosoft/anaconda3/lib/python3.9/site-packages (from requests-oauthlib>=0.7.0->google-auth-oauthlib<0.5,>=0.4.1->tensorboard<2.9,>=2.8->tensorflow) (3.2.0)\n"
     ]
    }
   ],
   "source": [
    "!pip install tensorflow        "
   ]
  },
  {
   "cell_type": "code",
   "execution_count": 2,
   "metadata": {
    "colab": {},
    "colab_type": "code",
    "id": "sCV30xyVhFbE"
   },
   "outputs": [
    {
     "name": "stderr",
     "output_type": "stream",
     "text": [
      "2022-04-26 11:42:26.824597: W tensorflow/stream_executor/platform/default/dso_loader.cc:64] Could not load dynamic library 'libcudart.so.11.0'; dlerror: libcudart.so.11.0: cannot open shared object file: No such file or directory\n",
      "2022-04-26 11:42:26.824632: I tensorflow/stream_executor/cuda/cudart_stub.cc:29] Ignore above cudart dlerror if you do not have a GPU set up on your machine.\n"
     ]
    }
   ],
   "source": [
    "import tensorflow as tf\n",
    "from keras.preprocessing.image import ImageDataGenerator"
   ]
  },
  {
   "cell_type": "markdown",
   "metadata": {
    "colab_type": "text",
    "id": "oxQxCBWyoGPE"
   },
   "source": [
    "## Part 1 - Data Preprocessing"
   ]
  },
  {
   "cell_type": "markdown",
   "metadata": {
    "colab_type": "text",
    "id": "MvE-heJNo3GG"
   },
   "source": [
    "### Preprocessing the Training set"
   ]
  },
  {
   "cell_type": "code",
   "execution_count": 3,
   "metadata": {
    "colab": {},
    "colab_type": "code",
    "id": "0koUcJMJpEBD"
   },
   "outputs": [
    {
     "name": "stdout",
     "output_type": "stream",
     "text": [
      "Found 1088 images belonging to 2 classes.\n"
     ]
    }
   ],
   "source": [
    "train_datagen = ImageDataGenerator(rescale = 1./255,\n",
    "                                   shear_range = 0.2,\n",
    "                                   zoom_range = 0.2,\n",
    "                                   horizontal_flip = True)\n",
    "training_set = train_datagen.flow_from_directory('/home/neosoft/Documents/Github/PythonTaskFiles/cnn_mask_detection/mask_dataset/train',\n",
    "                                                 target_size = (64, 64),\n",
    "                                                 batch_size = 32,\n",
    "                                                 class_mode = 'binary')"
   ]
  },
  {
   "cell_type": "markdown",
   "metadata": {
    "colab_type": "text",
    "id": "mrCMmGw9pHys"
   },
   "source": [
    "### Preprocessing the Test set"
   ]
  },
  {
   "cell_type": "code",
   "execution_count": 4,
   "metadata": {
    "colab": {},
    "colab_type": "code",
    "id": "SH4WzfOhpKc3"
   },
   "outputs": [
    {
     "name": "stdout",
     "output_type": "stream",
     "text": [
      "Found 98 images belonging to 2 classes.\n"
     ]
    }
   ],
   "source": [
    "test_datagen = ImageDataGenerator(rescale = 1./255)\n",
    "test_set = test_datagen.flow_from_directory('/home/neosoft/Documents/Github/PythonTaskFiles/cnn_mask_detection/mask_dataset/test',\n",
    "                                            target_size = (64, 64),\n",
    "                                            batch_size = 32,\n",
    "                                            class_mode = 'binary')"
   ]
  },
  {
   "cell_type": "markdown",
   "metadata": {
    "colab_type": "text",
    "id": "af8O4l90gk7B"
   },
   "source": [
    "## Part 2 - Building the CNN"
   ]
  },
  {
   "cell_type": "markdown",
   "metadata": {
    "colab_type": "text",
    "id": "ces1gXY2lmoX"
   },
   "source": [
    "### Initialising the CNN"
   ]
  },
  {
   "cell_type": "code",
   "execution_count": 5,
   "metadata": {
    "colab": {},
    "colab_type": "code",
    "id": "SAUt4UMPlhLS"
   },
   "outputs": [
    {
     "name": "stderr",
     "output_type": "stream",
     "text": [
      "2022-04-26 11:42:28.810706: W tensorflow/stream_executor/platform/default/dso_loader.cc:64] Could not load dynamic library 'libcuda.so.1'; dlerror: libcuda.so.1: cannot open shared object file: No such file or directory\n",
      "2022-04-26 11:42:28.810745: W tensorflow/stream_executor/cuda/cuda_driver.cc:269] failed call to cuInit: UNKNOWN ERROR (303)\n",
      "2022-04-26 11:42:28.810771: I tensorflow/stream_executor/cuda/cuda_diagnostics.cc:156] kernel driver does not appear to be running on this host (neosoft-Latitude-E7270): /proc/driver/nvidia/version does not exist\n",
      "2022-04-26 11:42:28.811839: I tensorflow/core/platform/cpu_feature_guard.cc:151] This TensorFlow binary is optimized with oneAPI Deep Neural Network Library (oneDNN) to use the following CPU instructions in performance-critical operations:  AVX2 FMA\n",
      "To enable them in other operations, rebuild TensorFlow with the appropriate compiler flags.\n"
     ]
    }
   ],
   "source": [
    "cnn = tf.keras.models.Sequential()"
   ]
  },
  {
   "cell_type": "markdown",
   "metadata": {
    "colab_type": "text",
    "id": "u5YJj_XMl5LF"
   },
   "source": [
    "### Step 1 - Convolution"
   ]
  },
  {
   "cell_type": "code",
   "execution_count": 6,
   "metadata": {
    "colab": {},
    "colab_type": "code",
    "id": "XPzPrMckl-hV"
   },
   "outputs": [],
   "source": [
    "cnn.add(tf.keras.layers.Conv2D(filters=32, kernel_size=3, activation='relu', input_shape=[64, 64, 3]))"
   ]
  },
  {
   "cell_type": "markdown",
   "metadata": {
    "colab_type": "text",
    "id": "tf87FpvxmNOJ"
   },
   "source": [
    "### Step 2 - Pooling"
   ]
  },
  {
   "cell_type": "code",
   "execution_count": 7,
   "metadata": {
    "colab": {},
    "colab_type": "code",
    "id": "ncpqPl69mOac"
   },
   "outputs": [],
   "source": [
    "cnn.add(tf.keras.layers.MaxPool2D(pool_size=2, strides=2))"
   ]
  },
  {
   "cell_type": "markdown",
   "metadata": {
    "colab_type": "text",
    "id": "xaTOgD8rm4mU"
   },
   "source": [
    "### Adding a second convolutional layer"
   ]
  },
  {
   "cell_type": "code",
   "execution_count": 8,
   "metadata": {
    "colab": {},
    "colab_type": "code",
    "id": "i_-FZjn_m8gk"
   },
   "outputs": [],
   "source": [
    "cnn.add(tf.keras.layers.Conv2D(filters=32, kernel_size=3, activation='relu'))\n",
    "cnn.add(tf.keras.layers.MaxPool2D(pool_size=2, strides=2))"
   ]
  },
  {
   "cell_type": "markdown",
   "metadata": {
    "colab_type": "text",
    "id": "tmiEuvTunKfk"
   },
   "source": [
    "### Step 3 - Flattening"
   ]
  },
  {
   "cell_type": "code",
   "execution_count": 9,
   "metadata": {
    "colab": {},
    "colab_type": "code",
    "id": "6AZeOGCvnNZn"
   },
   "outputs": [],
   "source": [
    "cnn.add(tf.keras.layers.Flatten())"
   ]
  },
  {
   "cell_type": "markdown",
   "metadata": {
    "colab_type": "text",
    "id": "dAoSECOm203v"
   },
   "source": [
    "### Step 4 - Full Connection"
   ]
  },
  {
   "cell_type": "code",
   "execution_count": 10,
   "metadata": {
    "colab": {},
    "colab_type": "code",
    "id": "8GtmUlLd26Nq"
   },
   "outputs": [],
   "source": [
    "cnn.add(tf.keras.layers.Dense(units=128, activation='relu'))"
   ]
  },
  {
   "cell_type": "markdown",
   "metadata": {
    "colab_type": "text",
    "id": "yTldFvbX28Na"
   },
   "source": [
    "### Step 5 - Output Layer"
   ]
  },
  {
   "cell_type": "code",
   "execution_count": 11,
   "metadata": {
    "colab": {},
    "colab_type": "code",
    "id": "1p_Zj1Mc3Ko_"
   },
   "outputs": [],
   "source": [
    "cnn.add(tf.keras.layers.Dense(units=1, activation='sigmoid'))"
   ]
  },
  {
   "cell_type": "markdown",
   "metadata": {
    "colab_type": "text",
    "id": "D6XkI90snSDl"
   },
   "source": [
    "## Part 3 - Training the CNN"
   ]
  },
  {
   "cell_type": "markdown",
   "metadata": {
    "colab_type": "text",
    "id": "vfrFQACEnc6i"
   },
   "source": [
    "### Compiling the CNN"
   ]
  },
  {
   "cell_type": "code",
   "execution_count": 12,
   "metadata": {
    "colab": {},
    "colab_type": "code",
    "id": "NALksrNQpUlJ"
   },
   "outputs": [],
   "source": [
    "cnn.compile(optimizer = 'adam', loss = 'binary_crossentropy', metrics = ['accuracy'])"
   ]
  },
  {
   "cell_type": "markdown",
   "metadata": {
    "colab_type": "text",
    "id": "ehS-v3MIpX2h"
   },
   "source": [
    "### Training the CNN on the Training set and evaluating it on the Test set"
   ]
  },
  {
   "cell_type": "code",
   "execution_count": 13,
   "metadata": {
    "colab": {},
    "colab_type": "code",
    "id": "XUj1W4PJptta"
   },
   "outputs": [
    {
     "name": "stdout",
     "output_type": "stream",
     "text": [
      "Epoch 1/25\n",
      "34/34 [==============================] - 10s 276ms/step - loss: 0.5285 - accuracy: 0.7068 - val_loss: 0.2616 - val_accuracy: 0.8878\n",
      "Epoch 2/25\n",
      "34/34 [==============================] - 9s 266ms/step - loss: 0.3694 - accuracy: 0.8373 - val_loss: 0.1390 - val_accuracy: 0.9184\n",
      "Epoch 3/25\n",
      "34/34 [==============================] - 9s 252ms/step - loss: 0.3162 - accuracy: 0.8612 - val_loss: 0.1280 - val_accuracy: 0.9184\n",
      "Epoch 4/25\n",
      "34/34 [==============================] - 9s 261ms/step - loss: 0.2836 - accuracy: 0.8805 - val_loss: 0.2356 - val_accuracy: 0.8878\n",
      "Epoch 5/25\n",
      "34/34 [==============================] - 9s 276ms/step - loss: 0.2391 - accuracy: 0.9026 - val_loss: 0.1426 - val_accuracy: 0.9286\n",
      "Epoch 6/25\n",
      "34/34 [==============================] - 10s 287ms/step - loss: 0.2229 - accuracy: 0.9053 - val_loss: 0.1535 - val_accuracy: 0.9286\n",
      "Epoch 7/25\n",
      "34/34 [==============================] - 10s 282ms/step - loss: 0.2251 - accuracy: 0.8925 - val_loss: 0.1704 - val_accuracy: 0.9082\n",
      "Epoch 8/25\n",
      "34/34 [==============================] - 9s 273ms/step - loss: 0.1859 - accuracy: 0.9237 - val_loss: 0.1674 - val_accuracy: 0.9286\n",
      "Epoch 9/25\n",
      "34/34 [==============================] - 10s 280ms/step - loss: 0.1794 - accuracy: 0.9320 - val_loss: 0.0914 - val_accuracy: 0.9694\n",
      "Epoch 10/25\n",
      "34/34 [==============================] - 9s 264ms/step - loss: 0.1636 - accuracy: 0.9329 - val_loss: 0.1557 - val_accuracy: 0.9184\n",
      "Epoch 11/25\n",
      "34/34 [==============================] - 9s 253ms/step - loss: 0.1810 - accuracy: 0.9246 - val_loss: 0.2479 - val_accuracy: 0.8673\n",
      "Epoch 12/25\n",
      "34/34 [==============================] - 9s 250ms/step - loss: 0.1514 - accuracy: 0.9384 - val_loss: 0.0875 - val_accuracy: 0.9694\n",
      "Epoch 13/25\n",
      "34/34 [==============================] - 8s 247ms/step - loss: 0.1287 - accuracy: 0.9467 - val_loss: 0.2361 - val_accuracy: 0.8878\n",
      "Epoch 14/25\n",
      "34/34 [==============================] - 8s 242ms/step - loss: 0.1264 - accuracy: 0.9522 - val_loss: 0.3784 - val_accuracy: 0.8367\n",
      "Epoch 15/25\n",
      "34/34 [==============================] - 8s 245ms/step - loss: 0.1456 - accuracy: 0.9421 - val_loss: 0.1733 - val_accuracy: 0.9184\n",
      "Epoch 16/25\n",
      "34/34 [==============================] - 8s 244ms/step - loss: 0.0989 - accuracy: 0.9697 - val_loss: 0.1734 - val_accuracy: 0.9286\n",
      "Epoch 17/25\n",
      "34/34 [==============================] - 9s 253ms/step - loss: 0.1101 - accuracy: 0.9476 - val_loss: 0.0423 - val_accuracy: 0.9898\n",
      "Epoch 18/25\n",
      "34/34 [==============================] - 9s 271ms/step - loss: 0.1141 - accuracy: 0.9559 - val_loss: 0.2204 - val_accuracy: 0.9082\n",
      "Epoch 19/25\n",
      "34/34 [==============================] - 9s 256ms/step - loss: 0.0972 - accuracy: 0.9614 - val_loss: 0.0851 - val_accuracy: 0.9592\n",
      "Epoch 20/25\n",
      "34/34 [==============================] - 8s 240ms/step - loss: 0.0839 - accuracy: 0.9651 - val_loss: 0.1492 - val_accuracy: 0.9490\n",
      "Epoch 21/25\n",
      "34/34 [==============================] - 8s 245ms/step - loss: 0.0767 - accuracy: 0.9697 - val_loss: 0.2736 - val_accuracy: 0.9184\n",
      "Epoch 22/25\n",
      "34/34 [==============================] - 8s 240ms/step - loss: 0.0655 - accuracy: 0.9770 - val_loss: 0.0964 - val_accuracy: 0.9490\n",
      "Epoch 23/25\n",
      "34/34 [==============================] - 8s 241ms/step - loss: 0.0557 - accuracy: 0.9807 - val_loss: 0.2748 - val_accuracy: 0.8878\n",
      "Epoch 24/25\n",
      "34/34 [==============================] - 8s 242ms/step - loss: 0.0545 - accuracy: 0.9807 - val_loss: 0.0867 - val_accuracy: 0.9694\n",
      "Epoch 25/25\n",
      "34/34 [==============================] - 8s 245ms/step - loss: 0.0638 - accuracy: 0.9779 - val_loss: 0.3590 - val_accuracy: 0.8878\n"
     ]
    },
    {
     "data": {
      "text/plain": [
       "<keras.callbacks.History at 0x7fc1d096bbe0>"
      ]
     },
     "execution_count": 13,
     "metadata": {},
     "output_type": "execute_result"
    }
   ],
   "source": [
    "cnn.fit(x = training_set, validation_data = test_set, epochs = 25)"
   ]
  },
  {
   "cell_type": "markdown",
   "metadata": {
    "colab_type": "text",
    "id": "U3PZasO0006Z"
   },
   "source": [
    "## Part 4 - Making a single prediction"
   ]
  },
  {
   "cell_type": "code",
   "execution_count": 23,
   "metadata": {
    "colab": {},
    "colab_type": "code",
    "id": "gsSiWEJY1BPB"
   },
   "outputs": [],
   "source": [
    "import numpy as np\n",
    "from keras.preprocessing import image\n",
    "test_image = image.load_img('/home/neosoft/Documents/Github/PythonTaskFiles/cnn_mask_detection/mask_dataset/images.jpeg', target_size = (64, 64))\n",
    "test_image = image.img_to_array(test_image)\n",
    "test_image = np.expand_dims(test_image, axis = 0)\n",
    "result = cnn.predict(test_image)\n",
    "training_set.class_indices\n",
    "if result[0][0] == 1:\n",
    "  prediction = 'Properly worn mask'\n",
    "else:\n",
    "  prediction = 'Improperly worn mask'"
   ]
  },
  {
   "cell_type": "code",
   "execution_count": 24,
   "metadata": {
    "colab": {},
    "colab_type": "code",
    "id": "ED9KB3I54c1i"
   },
   "outputs": [
    {
     "name": "stdout",
     "output_type": "stream",
     "text": [
      "Improperly worn mask\n"
     ]
    }
   ],
   "source": [
    "print(prediction)"
   ]
  }
 ],
 "metadata": {
  "colab": {
   "authorship_tag": "ABX9TyON0YxX/oky4tPbqCLnFjWD",
   "collapsed_sections": [],
   "name": "convolutional_neural_network.ipynb",
   "provenance": [],
   "toc_visible": true
  },
  "kernelspec": {
   "display_name": "Python 3 (ipykernel)",
   "language": "python",
   "name": "python3"
  },
  "language_info": {
   "codemirror_mode": {
    "name": "ipython",
    "version": 3
   },
   "file_extension": ".py",
   "mimetype": "text/x-python",
   "name": "python",
   "nbconvert_exporter": "python",
   "pygments_lexer": "ipython3",
   "version": "3.9.7"
  }
 },
 "nbformat": 4,
 "nbformat_minor": 1
}
